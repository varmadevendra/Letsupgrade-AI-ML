{
 "cells": [
  {
   "cell_type": "code",
   "execution_count": 11,
   "metadata": {},
   "outputs": [
    {
     "name": "stdout",
     "output_type": "stream",
     "text": [
      "2 3 5 7 11 13 17 19 23 29 31 37 41 43 47 53 59 61 67 71 "
     ]
    }
   ],
   "source": [
    "#Q.1_ \n",
    "r=72\n",
    "for a in range(2,r+1):  \n",
    "        k=0  \n",
    "        for i in range(2,a//2+1):  \n",
    "            if(a%i==0):  \n",
    "                k=k+1  \n",
    "        if(k<=0):  \n",
    "            print(a,end=\" \")  \n",
    "i=i+1"
   ]
  },
  {
   "cell_type": "code",
   "execution_count": 12,
   "metadata": {},
   "outputs": [
    {
     "name": "stdout",
     "output_type": "stream",
     "text": [
      "Hello this is spart.\n",
      "hello this is spart.\n",
      "Hello this is Spart.\n",
      "1\n",
      "b'Hello this is Spart.'\n",
      "True\n",
      "Hello this is Spart.\n",
      "hello this is spart.\n",
      "hELLO THIS IS sPART.\n",
      "Hello This Is Spart.\n",
      "HELLO THIS IS SPART.\n",
      "['Hello', 'this', 'is', 'Spart.']\n",
      "True\n",
      "Hi this is Spart.\n",
      "('Hello ', 'this', ' is Spart.')\n"
     ]
    }
   ],
   "source": [
    "#Q.2 \n",
    "\n",
    "str1=(\"Hello this is Spart.\")\n",
    "a=str1.capitalize()\n",
    "print(a)\n",
    "b=str1.casefold()\n",
    "print(b)\n",
    "c=str1.center(10)\n",
    "print(c)\n",
    "d=str1.count(\"Hello\")\n",
    "print(d)\n",
    "e=str1.encode()\n",
    "print(e)\n",
    "f=str1.endswith(\".\")\n",
    "print(f)\n",
    "g=str1.expandtabs()\n",
    "print(g)\n",
    "h=str1.lower()\n",
    "print(h)\n",
    "i=str1.swapcase()\n",
    "print(i)\n",
    "j=str1.title()\n",
    "print(j)\n",
    "k=str1.upper()\n",
    "print(k)\n",
    "l=str1.split()\n",
    "print(l)\n",
    "m=str1.startswith(\"Hello\")\n",
    "print(m)\n",
    "n=str1.replace(\"Hello\",\"Hi\")\n",
    "print(n)\n",
    "o=str1.partition(\"this\")\n",
    "print(o)"
   ]
  },
  {
   "cell_type": "code",
   "execution_count": 7,
   "metadata": {},
   "outputs": [
    {
     "name": "stdout",
     "output_type": "stream",
     "text": [
      "enter 1st word here non\n",
      "The string is a palindrome\n",
      "Enter 2nd word heremaggie\n",
      "the strings aren't anagrams.\n"
     ]
    }
   ],
   "source": [
    "#Q.3_Write a Python program to check if the given string is a Palindrome or Anagram or None of them.Display the message accordingly to the user.\n",
    "s1 = input(\"enter 1st word here \")\n",
    "if (s1==s1[::-1]):\n",
    "    print(\"The string is a palindrome\")\n",
    "else:\n",
    "    print(\"The strings aren't palindrome\")\n",
    "s2=input(\"Enter 2nd word here\")\n",
    "if(sorted(s1)==sorted(s2)):\n",
    "      print(\"The strings are anagrams.\")\n",
    "else:\n",
    "      print(\"The strings aren't anagrams.\")\n"
   ]
  },
  {
   "cell_type": "code",
   "execution_count": 14,
   "metadata": {},
   "outputs": [
    {
     "name": "stdout",
     "output_type": "stream",
     "text": [
      "Enter the stringrandom\n",
      "random\n",
      "random\n",
      "random\n"
     ]
    }
   ],
   "source": [
    "# Q.4\n",
    "x= input(\"Enter the string\")\n",
    "print(x)\n",
    "y=x.replace('.','').replace('@','').replace('#','').replace('!',\"\").replace('%','').replace('&','').replace('*','').replace(' ','').replace('-','').replace('/','').replace('+','').replace('?','').replace('=','').replace('<','').replace('>','')\n",
    "print(y)\n",
    "z=y.lower()\n",
    "print(z)"
   ]
  },
  {
   "cell_type": "code",
   "execution_count": null,
   "metadata": {},
   "outputs": [],
   "source": []
  },
  {
   "cell_type": "code",
   "execution_count": null,
   "metadata": {},
   "outputs": [],
   "source": []
  },
  {
   "cell_type": "code",
   "execution_count": null,
   "metadata": {},
   "outputs": [],
   "source": []
  }
 ],
 "metadata": {
  "kernelspec": {
   "display_name": "Python 3",
   "language": "python",
   "name": "python3"
  },
  "language_info": {
   "codemirror_mode": {
    "name": "ipython",
    "version": 3
   },
   "file_extension": ".py",
   "mimetype": "text/x-python",
   "name": "python",
   "nbconvert_exporter": "python",
   "pygments_lexer": "ipython3",
   "version": "3.7.6"
  }
 },
 "nbformat": 4,
 "nbformat_minor": 4
}
