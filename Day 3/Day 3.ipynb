{
 "cells": [
  {
   "cell_type": "code",
   "execution_count": 16,
   "metadata": {},
   "outputs": [
    {
     "name": "stdout",
     "output_type": "stream",
     "text": [
      "enter the value 25+52j\n",
      "enter the value 21-32j\n",
      "c = (4+84j)\n"
     ]
    },
    {
     "data": {
      "text/plain": [
       "complex"
      ]
     },
     "execution_count": 16,
     "metadata": {},
     "output_type": "execute_result"
    }
   ],
   "source": [
    "#Q.1_Subtrcting 2 complex Numbers.\n",
    "a=complex (input('enter the value '))\n",
    "b=complex (input('enter the value '))\n",
    "c=a-b\n",
    "print('c =',c)\n",
    "type(c)"
   ]
  },
  {
   "cell_type": "code",
   "execution_count": 19,
   "metadata": {},
   "outputs": [
    {
     "name": "stdout",
     "output_type": "stream",
     "text": [
      "enter the value 2\n",
      "fourth root of 2 is 1.189207115002721\n"
     ]
    }
   ],
   "source": [
    "#Q.2_fourth root of a number.\n",
    "a=int (input('enter the value '))\n",
    "b=a**0.25\n",
    "print('fourth root of',a,'is',b)"
   ]
  },
  {
   "cell_type": "code",
   "execution_count": 23,
   "metadata": {},
   "outputs": [
    {
     "name": "stdout",
     "output_type": "stream",
     "text": [
      "enter the value of a =3\n",
      "enter the value of b =7\n",
      "value of a = 7\n",
      "value of b = 3\n"
     ]
    }
   ],
   "source": [
    "#Q.3_swap two numbers in Python with the help of a temporary variable\n",
    "a= input('enter the value of a =')\n",
    "b=input('enter the value of b =')\n",
    "temp=a\n",
    "a=b\n",
    "b=temp\n",
    "print('value of a =',a,)\n",
    "print('value of b =',b,)"
   ]
  },
  {
   "cell_type": "code",
   "execution_count": 24,
   "metadata": {},
   "outputs": [
    {
     "name": "stdout",
     "output_type": "stream",
     "text": [
      "enter the value of a =4\n",
      "enter the value of b =8\n",
      "value of a = 8\n",
      "value of b = 4\n"
     ]
    }
   ],
   "source": [
    "#Q.4_swap two numbers in Python without using a temporary variable\n",
    "a=input('enter the value of a =')\n",
    "b=input('enter the value of b =')\n",
    "a,b=b,a\n",
    "print('value of a =',a,)\n",
    "print('value of b =',b,)"
   ]
  },
  {
   "cell_type": "code",
   "execution_count": 26,
   "metadata": {},
   "outputs": [
    {
     "name": "stdout",
     "output_type": "stream",
     "text": [
      "enter the value of fahrenhite =23\n",
      "value of kelvin = 268.0\n",
      "value of celsius = -5.0\n"
     ]
    }
   ],
   "source": [
    "#Q.5_convert fahrenheit to kelvin and celsius both\n",
    "#fahrenhite\n",
    "F=float (input('enter the value of fahrenhite ='))\n",
    "#kelvin\n",
    "K=(5/9)*(F-32)+273\n",
    "#celsius\n",
    "C=(5/9)*(F-32)\n",
    "print('value of kelvin =',K,)\n",
    "print('value of celsius =',C,)"
   ]
  },
  {
   "cell_type": "code",
   "execution_count": 27,
   "metadata": {},
   "outputs": [
    {
     "name": "stdout",
     "output_type": "stream",
     "text": [
      "a is <class 'int'>\n",
      "b is <class 'float'>\n",
      "c is <class 'complex'>\n",
      "d is <class 'str'>\n",
      "e is <class 'bool'>\n",
      "f is <class 'set'>\n",
      "g is <class 'list'>\n",
      "h is <class 'tuple'>\n"
     ]
    }
   ],
   "source": [
    "#Q.6_available data types in Python\n",
    "a=5\n",
    "b=5.5\n",
    "c=5j\n",
    "d=\"2,3,4,5\"\n",
    "e= True\n",
    "f={'grass','horse','dhammal'}\n",
    "g=['table','boal']\n",
    "h=(\"wifi\",\"laptop\")\n",
    "print(\"a is\",type(a))\n",
    "print(\"b is\",type(b))\n",
    "print(\"c is\",type(c))\n",
    "print(\"d is\",type(d))\n",
    "print(\"e is\",type(e))\n",
    "print(\"f is\",type(f))\n",
    "print(\"g is\",type(g))\n",
    "print(\"h is\",type(h))"
   ]
  },
  {
   "cell_type": "markdown",
   "metadata": {},
   "source": [
    "#list the steps discussed in the session by Dr. Darshan Ingle sir to create Github profile and upload Githubs Assignment link.\n",
    "##\n",
    "1. Click \"File\" option in notebook\n",
    "2. Go to \"Download As\" -> \"Notebook(.ipynb)\"\n",
    "3. Upload the downloaded .ipynb file to github and share the link in google form."
   ]
  },
  {
   "cell_type": "code",
   "execution_count": null,
   "metadata": {},
   "outputs": [],
   "source": []
  }
 ],
 "metadata": {
  "kernelspec": {
   "display_name": "Python 3",
   "language": "python",
   "name": "python3"
  },
  "language_info": {
   "codemirror_mode": {
    "name": "ipython",
    "version": 3
   },
   "file_extension": ".py",
   "mimetype": "text/x-python",
   "name": "python",
   "nbconvert_exporter": "python",
   "pygments_lexer": "ipython3",
   "version": "3.7.6"
  }
 },
 "nbformat": 4,
 "nbformat_minor": 4
}
