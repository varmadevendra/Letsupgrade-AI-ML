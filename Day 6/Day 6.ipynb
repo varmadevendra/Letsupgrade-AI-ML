{
 "cells": [
  {
   "cell_type": "markdown",
   "metadata": {},
   "source": [
    "# Q.3_Sets\n"
   ]
  },
  {
   "cell_type": "markdown",
   "metadata": {},
   "source": [
    "A set is an unordered collection of items. Every set element is unique (no duplicates) and must be immutable (cannot be changed).\n",
    "\n",
    "However, a set itself is mutable. We can add or remove items from it.\n",
    "\n",
    "Sets can also be used to perform mathematical set operations like union, intersection, symmetric difference, etc.\n"
   ]
  },
  {
   "cell_type": "code",
   "execution_count": 1,
   "metadata": {},
   "outputs": [
    {
     "name": "stdout",
     "output_type": "stream",
     "text": [
      "{'cherry', 'banana', 'apple'}\n"
     ]
    }
   ],
   "source": [
    "#Set crieation \n",
    "\n",
    "set1 = {\"apple\", \"banana\", \"cherry\"}\n",
    "print(set1)"
   ]
  },
  {
   "cell_type": "code",
   "execution_count": 2,
   "metadata": {},
   "outputs": [
    {
     "name": "stdout",
     "output_type": "stream",
     "text": [
      "{'MDH', 'Addam', 'Eve', 'God'}\n"
     ]
    }
   ],
   "source": [
    "#For adding item use add() \n",
    "\n",
    "set1 = {\"God\", \"Addam\", \"Eve\"}\n",
    "\n",
    "set1.add(\"MDH\")\n",
    "\n",
    "print(set1)\n",
    "\n",
    "#Once a set is created, you cannot change its items, but you can add new items."
   ]
  },
  {
   "cell_type": "code",
   "execution_count": 4,
   "metadata": {},
   "outputs": [
    {
     "name": "stdout",
     "output_type": "stream",
     "text": [
      "{'Dog', 'Addam', 'Eve', 'MDH', 'House', 'God'}\n"
     ]
    }
   ],
   "source": [
    "#For adding item use update() \n",
    "\n",
    "set1 = {\"God\", \"Addam\", \"Eve\"}\n",
    "\n",
    "set1.update({\"MDH\", \"Dog\", \"House\"})\n",
    "\n",
    "print(set1)"
   ]
  },
  {
   "cell_type": "code",
   "execution_count": 6,
   "metadata": {},
   "outputs": [
    {
     "name": "stdout",
     "output_type": "stream",
     "text": [
      "{'banana', 'apple'}\n"
     ]
    }
   ],
   "source": [
    "#Remove item from sets using the remove()\n",
    "\n",
    "set1 = {\"apple\", \"banana\", \"cherry\"}\n",
    "\n",
    "set1.remove(\"cherry\")\n",
    "\n",
    "print(set1)\n",
    "\n",
    "#If the item to remove does not exist, remove() will raise an error."
   ]
  },
  {
   "cell_type": "code",
   "execution_count": 7,
   "metadata": {},
   "outputs": [
    {
     "name": "stdout",
     "output_type": "stream",
     "text": [
      "{'banana', 'apple'}\n"
     ]
    }
   ],
   "source": [
    "#Remove item from sets using the discard()\n",
    "\n",
    "set1 = {\"apple\", \"banana\", \"cherry\"}\n",
    "\n",
    "set1.discard(\"cherry\")\n",
    "\n",
    "print(set1)\n",
    "\n",
    "#If the item to remove does not exist, discard() will NOT raise an error."
   ]
  },
  {
   "cell_type": "code",
   "execution_count": 8,
   "metadata": {},
   "outputs": [
    {
     "name": "stdout",
     "output_type": "stream",
     "text": [
      "4\n"
     ]
    }
   ],
   "source": [
    "#get length of the set\n",
    "\n",
    "set1 = {\"apple\", \"banana\", \"cherry\",\"Man\"}\n",
    "\n",
    "print(len(set1))"
   ]
  },
  {
   "cell_type": "code",
   "execution_count": 10,
   "metadata": {},
   "outputs": [
    {
     "name": "stdout",
     "output_type": "stream",
     "text": [
      "Dbanng2\n",
      "{'Dbanng1', 'Dbanng3'}\n"
     ]
    }
   ],
   "source": [
    "#Remove last item by using pop()\n",
    "\n",
    "set1 = {\"Dbanng1\", \"Dbanng2\", \"Dbanng3\"}\n",
    "\n",
    "D = set1.pop()\n",
    "\n",
    "print(D)\n",
    "\n",
    "print(set1)\n",
    "\n",
    "#Sets are unordered, so when using the pop() method, you will not know which item that gets removed."
   ]
  },
  {
   "cell_type": "code",
   "execution_count": 11,
   "metadata": {},
   "outputs": [
    {
     "name": "stdout",
     "output_type": "stream",
     "text": [
      "set()\n"
     ]
    }
   ],
   "source": [
    "#Clear set by using clear()\n",
    "\n",
    "set1 = {\"Race1\", \"Race2\", \"Race3\"}\n",
    "\n",
    "set1.clear()\n",
    "\n",
    "print(set1)"
   ]
  },
  {
   "cell_type": "code",
   "execution_count": 14,
   "metadata": {},
   "outputs": [
    {
     "ename": "NameError",
     "evalue": "name 'set1' is not defined",
     "output_type": "error",
     "traceback": [
      "\u001b[1;31m---------------------------------------------------------------------------\u001b[0m",
      "\u001b[1;31mNameError\u001b[0m                                 Traceback (most recent call last)",
      "\u001b[1;32m<ipython-input-14-4fb666aa6ee3>\u001b[0m in \u001b[0;36m<module>\u001b[1;34m\u001b[0m\n\u001b[0;32m      5\u001b[0m \u001b[1;32mdel\u001b[0m \u001b[0mset1\u001b[0m\u001b[1;33m\u001b[0m\u001b[1;33m\u001b[0m\u001b[0m\n\u001b[0;32m      6\u001b[0m \u001b[1;33m\u001b[0m\u001b[0m\n\u001b[1;32m----> 7\u001b[1;33m \u001b[0mprint\u001b[0m\u001b[1;33m(\u001b[0m\u001b[0mset1\u001b[0m\u001b[1;33m)\u001b[0m\u001b[1;33m\u001b[0m\u001b[1;33m\u001b[0m\u001b[0m\n\u001b[0m",
      "\u001b[1;31mNameError\u001b[0m: name 'set1' is not defined"
     ]
    }
   ],
   "source": [
    "#del will delete the set completely\n",
    "\n",
    "set1 = {\"Don1\", \"Don2\"}\n",
    "\n",
    "del set1\n",
    "\n",
    "print(set1)"
   ]
  },
  {
   "cell_type": "code",
   "execution_count": 15,
   "metadata": {},
   "outputs": [
    {
     "name": "stdout",
     "output_type": "stream",
     "text": [
      "{0, 5, 'Dbanng3', 'Dbanng2', 8, 'Dbanng1'}\n"
     ]
    }
   ],
   "source": [
    "# Joint two set with the help of union() & update()\n",
    "\n",
    "set1 = {\"Dbanng1\", \"Dbanng2\", \"Dbanng3\"}\n",
    "\n",
    "set2 = {5,8,0}\n",
    "\n",
    "set3 = set1.union(set2)\n",
    "\n",
    "print(set3)"
   ]
  },
  {
   "cell_type": "code",
   "execution_count": 18,
   "metadata": {},
   "outputs": [
    {
     "name": "stdout",
     "output_type": "stream",
     "text": [
      "{0, 'Race2', 5, 8, 'Race3', 'Race1'}\n"
     ]
    }
   ],
   "source": [
    "#Update()\n",
    "\n",
    "set1 = {\"Race1\", \"Race2\", \"Race3\"}\n",
    "\n",
    "set2 = {5,8,0}\n",
    "\n",
    "set1.update(set2)\n",
    "\n",
    "print(set1)"
   ]
  },
  {
   "cell_type": "code",
   "execution_count": 19,
   "metadata": {},
   "outputs": [
    {
     "name": "stdout",
     "output_type": "stream",
     "text": [
      "{'0', 'n', 'D'}\n"
     ]
    }
   ],
   "source": [
    "#using set() Constructor\n",
    "\n",
    "set1 = set((\"D\", \"0\", \"n\")) # note the double round-brackets\n",
    "print(set1)"
   ]
  },
  {
   "cell_type": "code",
   "execution_count": 2,
   "metadata": {},
   "outputs": [
    {
     "name": "stdout",
     "output_type": "stream",
     "text": [
      "original list L is :[4, 5, 2, 7, 9, 5, 2, 4]\n",
      "list after removing all duplicates :[2, 4, 5, 7, 9]\n"
     ]
    }
   ],
   "source": [
    "#Q.5 print this list L after removing all duplicate values with original order reserved.\n",
    "\n",
    "L = [4,5,2,7,9,5,2,4]\n",
    "print(\"original list L is :\" + str(L))\n",
    "L=list(set(L))\n",
    "print (\"list after removing all duplicates :\"+  str(L))"
   ]
  },
  {
   "cell_type": "code",
   "execution_count": null,
   "metadata": {},
   "outputs": [],
   "source": []
  }
 ],
 "metadata": {
  "kernelspec": {
   "display_name": "Python 3",
   "language": "python",
   "name": "python3"
  },
  "language_info": {
   "codemirror_mode": {
    "name": "ipython",
    "version": 3
   },
   "file_extension": ".py",
   "mimetype": "text/x-python",
   "name": "python",
   "nbconvert_exporter": "python",
   "pygments_lexer": "ipython3",
   "version": "3.7.6"
  }
 },
 "nbformat": 4,
 "nbformat_minor": 4
}
