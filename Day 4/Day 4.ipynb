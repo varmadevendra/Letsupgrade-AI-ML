{
 "cells": [
  {
   "cell_type": "code",
   "execution_count": 40,
   "metadata": {},
   "outputs": [
    {
     "name": "stdout",
     "output_type": "stream",
     "text": [
      "Enter First Number: 25\n",
      "Enter Second Number: 85\n",
      "The addition of both numbers is:  (110+0j)\n"
     ]
    }
   ],
   "source": [
    "# Q.1\n",
    "#A complex number contains two part – real and imaginary. The imaginary part is written with the “j” suffix.\n",
    "\n",
    "# The first argument is the real part and the second argument is the complex part.\n",
    "\n",
    "# Addition of comples numbers\n",
    "\n",
    "x = complex(input(\"Enter First Number: \"))\n",
    "y = complex(input(\"Enter Second Number: \"))\n",
    "\n",
    "print(\"The addition of both numbers is: \",x+y)"
   ]
  },
  {
   "cell_type": "code",
   "execution_count": 41,
   "metadata": {},
   "outputs": [
    {
     "name": "stdout",
     "output_type": "stream",
     "text": [
      "Enter First Number: 49\n",
      "Enter Second Number: 98\n",
      "The substraction of both numbers is:  (-49+0j)\n"
     ]
    }
   ],
   "source": [
    "# Q.1_substraction of comples numbers\n",
    "\n",
    "x = complex(input(\"Enter First Number: \"))\n",
    "y = complex(input(\"Enter Second Number: \"))\n",
    "\n",
    "print(\"The substraction of both numbers is: \",x-y)"
   ]
  },
  {
   "cell_type": "code",
   "execution_count": 42,
   "metadata": {},
   "outputs": [
    {
     "name": "stdout",
     "output_type": "stream",
     "text": [
      "Enter First Number: 88\n",
      "Enter Second Number: 92\n",
      "The multiplication of both numbers is:  (8096+0j)\n"
     ]
    }
   ],
   "source": [
    "#Q.1_multiplication of comples numbers\n",
    "\n",
    "x = complex(input(\"Enter First Number: \"))\n",
    "y = complex(input(\"Enter Second Number: \"))\n",
    "\n",
    "print(\"The multiplication of both numbers is: \",x*y)"
   ]
  },
  {
   "cell_type": "code",
   "execution_count": 43,
   "metadata": {},
   "outputs": [
    {
     "name": "stdout",
     "output_type": "stream",
     "text": [
      "0\n",
      "1\n",
      "2\n",
      "3\n",
      "4\n"
     ]
    }
   ],
   "source": [
    "#Q.2_We can run the for loop over a range to print each number in a given range.\n",
    "\n",
    "x=range(5)\n",
    "for num in x:\n",
    "    print(num)"
   ]
  },
  {
   "cell_type": "code",
   "execution_count": 44,
   "metadata": {},
   "outputs": [
    {
     "name": "stdout",
     "output_type": "stream",
     "text": [
      "Enter a number: 64\n",
      "Factorial of 64 is 126886932185884164103433389335161480802865516174545192198801894375214704230400000000000000\n"
     ]
    }
   ],
   "source": [
    "#Q.2_Factorial of number\n",
    "\n",
    "num=int(input(\"Enter a number: \"))\n",
    "fact=1\n",
    "for x in range(1, num+1):\n",
    "    fact=fact*x\n",
    "print (\"Factorial of {} is {}\".format(num,fact))"
   ]
  },
  {
   "cell_type": "code",
   "execution_count": 45,
   "metadata": {},
   "outputs": [
    {
     "name": "stdout",
     "output_type": "stream",
     "text": [
      "Enter value of x: 53\n",
      "Enter value of y: 78\n",
      "The subtraction of both numbers is  -25\n",
      "The division of x and y is  0.6794871794871795\n"
     ]
    }
   ],
   "source": [
    "#Q.3\n",
    "x= int(input(\"Enter value of x: \"))\n",
    "y= int(input(\"Enter value of y: \"))\n",
    "z=(x-y)\n",
    "print(\"The subtraction of both numbers is \",z)\n",
    "if z>25:\n",
    "    print(\"The multiplication of x and y is \",x*y)\n",
    "else:\n",
    "    print(\"The division of x and y is \",x/y)"
   ]
  },
  {
   "cell_type": "code",
   "execution_count": 27,
   "metadata": {},
   "outputs": [
    {
     "name": "stdout",
     "output_type": "stream",
     "text": [
      "2\n",
      "14\n",
      "34\n",
      "62\n",
      "98\n",
      "142\n"
     ]
    }
   ],
   "source": [
    "#Q.4_a list of 10 elements of integer values. If the number in the list is divisible by 2, print the result square of that nu minus two\n",
    "\n",
    "for i in [1,2,3,4,5,6,7,8,9,10,11,12]:\n",
    "#check the number in the list is divisible by 2\n",
    " if i%2==0:\n",
    "        print((i**2)-2)"
   ]
  },
  {
   "cell_type": "code",
   "execution_count": 39,
   "metadata": {},
   "outputs": [
    {
     "name": "stdout",
     "output_type": "stream",
     "text": [
      "8\n",
      "10\n",
      "12\n"
     ]
    }
   ],
   "source": [
    "#Q.5_a list of 10 elements. Print all the elements in the list which are greater than 7 when that number is divided 2.\n",
    "\n",
    "for i in [1,2,3,4,5,6,7,8,9,10,11,12]:\n",
    "#check the number in the list is divisible by 2\n",
    " if i%2==0:\n",
    "    if i>7:\n",
    "        print (i)\n",
    "    "
   ]
  },
  {
   "cell_type": "code",
   "execution_count": null,
   "metadata": {},
   "outputs": [],
   "source": []
  }
 ],
 "metadata": {
  "kernelspec": {
   "display_name": "Python 3",
   "language": "python",
   "name": "python3"
  },
  "language_info": {
   "codemirror_mode": {
    "name": "ipython",
    "version": 3
   },
   "file_extension": ".py",
   "mimetype": "text/x-python",
   "name": "python",
   "nbconvert_exporter": "python",
   "pygments_lexer": "ipython3",
   "version": "3.7.6"
  }
 },
 "nbformat": 4,
 "nbformat_minor": 4
}
